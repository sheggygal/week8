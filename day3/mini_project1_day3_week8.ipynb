{
  "nbformat": 4,
  "nbformat_minor": 0,
  "metadata": {
    "colab": {
      "provenance": []
    },
    "kernelspec": {
      "name": "python3",
      "display_name": "Python 3"
    },
    "language_info": {
      "name": "python"
    }
  },
  "cells": [
    {
      "cell_type": "code",
      "source": [
        "import pandas as pd"
      ],
      "metadata": {
        "id": "X_oCNFFO6ZiR"
      },
      "execution_count": 1,
      "outputs": []
    },
    {
      "cell_type": "code",
      "source": [
        "import matplotlib.pyplot as plt"
      ],
      "metadata": {
        "id": "-th4BEdS6a58"
      },
      "execution_count": 2,
      "outputs": []
    },
    {
      "cell_type": "code",
      "source": [
        "import seaborn as sns"
      ],
      "metadata": {
        "id": "ppJBekzrJMHp"
      },
      "execution_count": 3,
      "outputs": []
    },
    {
      "cell_type": "code",
      "source": [
        "file_path = '/content/survey.csv'"
      ],
      "metadata": {
        "id": "HjRD4oRL6duh"
      },
      "execution_count": 34,
      "outputs": []
    },
    {
      "cell_type": "code",
      "source": [
        "df = pd.read_csv(file_path)"
      ],
      "metadata": {
        "id": "ZM6vD2e37ouk"
      },
      "execution_count": 35,
      "outputs": []
    },
    {
      "cell_type": "code",
      "source": [
        "print(df.head())"
      ],
      "metadata": {
        "colab": {
          "base_uri": "https://localhost:8080/"
        },
        "id": "7-sJBnAJ7sFa",
        "outputId": "5bab9899-dfa7-400f-a18c-7953ca6ed1c2"
      },
      "execution_count": 36,
      "outputs": [
        {
          "output_type": "stream",
          "name": "stdout",
          "text": [
            "             Timestamp  Age  Gender         Country state self_employed  \\\n",
            "0  2014-08-27 11:29:31   37  Female   United States    IL           NaN   \n",
            "1  2014-08-27 11:29:37   44       M   United States    IN           NaN   \n",
            "2  2014-08-27 11:29:44   32    Male          Canada   NaN           NaN   \n",
            "3  2014-08-27 11:29:46   31    Male  United Kingdom   NaN           NaN   \n",
            "4  2014-08-27 11:30:22   31    Male   United States    TX           NaN   \n",
            "\n",
            "  family_history treatment work_interfere    no_employees  ...  \\\n",
            "0             No       Yes          Often            6-25  ...   \n",
            "1             No        No         Rarely  More than 1000  ...   \n",
            "2             No        No         Rarely            6-25  ...   \n",
            "3            Yes       Yes          Often          26-100  ...   \n",
            "4             No        No          Never         100-500  ...   \n",
            "\n",
            "                leave mental_health_consequence phys_health_consequence  \\\n",
            "0       Somewhat easy                        No                      No   \n",
            "1          Don't know                     Maybe                      No   \n",
            "2  Somewhat difficult                        No                      No   \n",
            "3  Somewhat difficult                       Yes                     Yes   \n",
            "4          Don't know                        No                      No   \n",
            "\n",
            "      coworkers supervisor mental_health_interview phys_health_interview  \\\n",
            "0  Some of them        Yes                      No                 Maybe   \n",
            "1            No         No                      No                    No   \n",
            "2           Yes        Yes                     Yes                   Yes   \n",
            "3  Some of them         No                   Maybe                 Maybe   \n",
            "4  Some of them        Yes                     Yes                   Yes   \n",
            "\n",
            "  mental_vs_physical obs_consequence comments  \n",
            "0                Yes              No      NaN  \n",
            "1         Don't know              No      NaN  \n",
            "2                 No              No      NaN  \n",
            "3                 No             Yes      NaN  \n",
            "4         Don't know              No      NaN  \n",
            "\n",
            "[5 rows x 27 columns]\n"
          ]
        }
      ]
    },
    {
      "cell_type": "markdown",
      "source": [
        "Printing the head of dataset to get a basical information."
      ],
      "metadata": {
        "id": "XqT_6vi38F_v"
      }
    },
    {
      "cell_type": "code",
      "source": [
        "print(df.info())"
      ],
      "metadata": {
        "colab": {
          "base_uri": "https://localhost:8080/"
        },
        "id": "FeSHaRmg8Yqa",
        "outputId": "276f3804-18be-4498-8fb6-9f1da44e082e"
      },
      "execution_count": 37,
      "outputs": [
        {
          "output_type": "stream",
          "name": "stdout",
          "text": [
            "<class 'pandas.core.frame.DataFrame'>\n",
            "RangeIndex: 1259 entries, 0 to 1258\n",
            "Data columns (total 27 columns):\n",
            " #   Column                     Non-Null Count  Dtype \n",
            "---  ------                     --------------  ----- \n",
            " 0   Timestamp                  1259 non-null   object\n",
            " 1   Age                        1259 non-null   int64 \n",
            " 2   Gender                     1259 non-null   object\n",
            " 3   Country                    1259 non-null   object\n",
            " 4   state                      744 non-null    object\n",
            " 5   self_employed              1241 non-null   object\n",
            " 6   family_history             1259 non-null   object\n",
            " 7   treatment                  1259 non-null   object\n",
            " 8   work_interfere             995 non-null    object\n",
            " 9   no_employees               1259 non-null   object\n",
            " 10  remote_work                1259 non-null   object\n",
            " 11  tech_company               1259 non-null   object\n",
            " 12  benefits                   1259 non-null   object\n",
            " 13  care_options               1259 non-null   object\n",
            " 14  wellness_program           1259 non-null   object\n",
            " 15  seek_help                  1259 non-null   object\n",
            " 16  anonymity                  1259 non-null   object\n",
            " 17  leave                      1259 non-null   object\n",
            " 18  mental_health_consequence  1259 non-null   object\n",
            " 19  phys_health_consequence    1259 non-null   object\n",
            " 20  coworkers                  1259 non-null   object\n",
            " 21  supervisor                 1259 non-null   object\n",
            " 22  mental_health_interview    1259 non-null   object\n",
            " 23  phys_health_interview      1259 non-null   object\n",
            " 24  mental_vs_physical         1259 non-null   object\n",
            " 25  obs_consequence            1259 non-null   object\n",
            " 26  comments                   164 non-null    object\n",
            "dtypes: int64(1), object(26)\n",
            "memory usage: 265.7+ KB\n",
            "None\n"
          ]
        }
      ]
    },
    {
      "cell_type": "markdown",
      "source": [
        "Here it seems that the only integer column is age, as it should be. But here we don't have the age grouped, that will be an obstacle to clean data, so we should change that column with several age groups."
      ],
      "metadata": {
        "id": "ZvkJL1Ql8n3J"
      }
    },
    {
      "cell_type": "code",
      "source": [
        "print(df.describe())"
      ],
      "metadata": {
        "colab": {
          "base_uri": "https://localhost:8080/"
        },
        "id": "u81U94eO9WEu",
        "outputId": "47767227-7e3c-4dd9-b0a5-bf9f50755f31"
      },
      "execution_count": 38,
      "outputs": [
        {
          "output_type": "stream",
          "name": "stdout",
          "text": [
            "                Age\n",
            "count  1.259000e+03\n",
            "mean   7.942815e+07\n",
            "std    2.818299e+09\n",
            "min   -1.726000e+03\n",
            "25%    2.700000e+01\n",
            "50%    3.100000e+01\n",
            "75%    3.600000e+01\n",
            "max    1.000000e+11\n"
          ]
        }
      ]
    },
    {
      "cell_type": "markdown",
      "source": [
        "It seems like all tha data in the column is correct"
      ],
      "metadata": {
        "id": "nNJ8TNBM9iTt"
      }
    },
    {
      "cell_type": "code",
      "source": [
        "print(\"Dataset Shape:\", df.shape)"
      ],
      "metadata": {
        "colab": {
          "base_uri": "https://localhost:8080/"
        },
        "id": "TEg0UoMZ9ctk",
        "outputId": "3f04737e-b156-4fbb-8dc0-9e7f3fe73289"
      },
      "execution_count": 39,
      "outputs": [
        {
          "output_type": "stream",
          "name": "stdout",
          "text": [
            "Dataset Shape: (1259, 27)\n"
          ]
        }
      ]
    },
    {
      "cell_type": "markdown",
      "source": [
        "Dataset isn't too huge, we don't need to opearate in chuncks or make a sample"
      ],
      "metadata": {
        "id": "92_Uf0oE9ucW"
      }
    },
    {
      "cell_type": "code",
      "source": [
        "print(df.isnull().sum())"
      ],
      "metadata": {
        "colab": {
          "base_uri": "https://localhost:8080/"
        },
        "id": "LqaS5jjn-G6C",
        "outputId": "e24022ff-c198-4e3a-fe80-4329eb81c163"
      },
      "execution_count": 40,
      "outputs": [
        {
          "output_type": "stream",
          "name": "stdout",
          "text": [
            "Timestamp                       0\n",
            "Age                             0\n",
            "Gender                          0\n",
            "Country                         0\n",
            "state                         515\n",
            "self_employed                  18\n",
            "family_history                  0\n",
            "treatment                       0\n",
            "work_interfere                264\n",
            "no_employees                    0\n",
            "remote_work                     0\n",
            "tech_company                    0\n",
            "benefits                        0\n",
            "care_options                    0\n",
            "wellness_program                0\n",
            "seek_help                       0\n",
            "anonymity                       0\n",
            "leave                           0\n",
            "mental_health_consequence       0\n",
            "phys_health_consequence         0\n",
            "coworkers                       0\n",
            "supervisor                      0\n",
            "mental_health_interview         0\n",
            "phys_health_interview           0\n",
            "mental_vs_physical              0\n",
            "obs_consequence                 0\n",
            "comments                     1095\n",
            "dtype: int64\n"
          ]
        }
      ]
    },
    {
      "cell_type": "code",
      "source": [],
      "metadata": {
        "id": "X6AwMUC8B3tI"
      },
      "execution_count": null,
      "outputs": []
    },
    {
      "cell_type": "markdown",
      "source": [
        "We have a lot of missing values in comments - that is ok, also we have quite a lot of missing values in state and work_interfere columns. Let's decide, what to do with them."
      ],
      "metadata": {
        "id": "iZDjU0jW-Q3m"
      }
    },
    {
      "cell_type": "code",
      "source": [
        "columns_to_drop = ['Timestamp', 'comments', 'state', 'work_interfere', 'family_history', 'no_employees', 'remote_work', 'benefits', 'care_options', 'wellness_program', 'seek_help', 'anonymity', 'leave', 'mental_health_consequence', 'phys_health_consequence', 'coworkers', 'supervisor', 'mental_health_interview', 'phys_health_interview', 'mental_vs_physical', 'obs_consequence', ]"
      ],
      "metadata": {
        "id": "ojV0N8kZ-uEb"
      },
      "execution_count": 41,
      "outputs": []
    },
    {
      "cell_type": "code",
      "source": [
        "df.drop(columns=columns_to_drop, inplace=True)"
      ],
      "metadata": {
        "id": "6HK0zc0U_3qu"
      },
      "execution_count": 42,
      "outputs": []
    },
    {
      "cell_type": "markdown",
      "source": [
        "I decided to drop all the columns, irrelivant to the main questions asked, so we have to operate a smaller table and don't have to clean a lot of data and run analysis faster."
      ],
      "metadata": {
        "id": "Pdzpkn5A_6T-"
      }
    },
    {
      "cell_type": "code",
      "source": [
        "df['self_employed'].fillna('No', inplace=True)"
      ],
      "metadata": {
        "id": "2stwAiFa_5ZP"
      },
      "execution_count": 43,
      "outputs": []
    },
    {
      "cell_type": "markdown",
      "source": [
        "Handling missing values in self_employed column with True, cause the ammount of missing values is insignificant. And it doesnt't change the picture, where almost 90% are not self-employed"
      ],
      "metadata": {
        "id": "Ap-4rWLLAopm"
      }
    },
    {
      "cell_type": "code",
      "source": [
        "df['Gender'] = df['Gender'].str.lower()"
      ],
      "metadata": {
        "id": "olC6XWaBENdB"
      },
      "execution_count": 44,
      "outputs": []
    },
    {
      "cell_type": "code",
      "source": [
        "df['Gender'] = df['Gender'].replace({\n",
        "    'male': 'M', 'm': 'M', 'male-ish': 'M', 'maile': 'M', 'mal': 'M', 'make': 'M',\n",
        "    'female': 'F', 'f': 'F', 'woman': 'F', 'female (cis)': 'F',\n",
        "})\n"
      ],
      "metadata": {
        "id": "u7h_gXIbESVf"
      },
      "execution_count": 45,
      "outputs": []
    },
    {
      "cell_type": "code",
      "source": [
        "df = df[df['Gender'].isin(['M', 'F'])]"
      ],
      "metadata": {
        "id": "mCtQcwIygQCy"
      },
      "execution_count": 57,
      "outputs": []
    },
    {
      "cell_type": "markdown",
      "source": [
        "Detecting and correcting inconsistencies in gender column. I decided to drop all the values, not to filter all the misprints"
      ],
      "metadata": {
        "id": "Cc4OUxrEEp1N"
      }
    },
    {
      "cell_type": "code",
      "source": [
        "lowr_columns = ['Country']"
      ],
      "metadata": {
        "id": "9OeKnGsQFvvV"
      },
      "execution_count": 46,
      "outputs": []
    },
    {
      "cell_type": "code",
      "source": [
        "for column in lowr_columns:\n",
        "    df[column]=df[column].str.lower()"
      ],
      "metadata": {
        "id": "5DWZRtfgHCKS"
      },
      "execution_count": 58,
      "outputs": []
    },
    {
      "cell_type": "markdown",
      "source": [
        "correcting inconsistencies in country columns"
      ],
      "metadata": {
        "id": "p6NDTBCPInzH"
      }
    },
    {
      "cell_type": "code",
      "source": [
        "df = df[(df['Age'] >= 18) & (df['Age'] <= 65)]"
      ],
      "metadata": {
        "id": "CuYY8PjZItf8"
      },
      "execution_count": 59,
      "outputs": []
    },
    {
      "cell_type": "markdown",
      "source": [
        "Filter out unrealistic ages"
      ],
      "metadata": {
        "id": "o_Zobys_IwT1"
      }
    },
    {
      "cell_type": "code",
      "source": [
        "print(df.head())"
      ],
      "metadata": {
        "colab": {
          "base_uri": "https://localhost:8080/"
        },
        "id": "ugsTvs7FbqC0",
        "outputId": "221da98d-e8c2-412a-ed03-7e0b4241dd8a"
      },
      "execution_count": 60,
      "outputs": [
        {
          "output_type": "stream",
          "name": "stdout",
          "text": [
            "   Age Gender         Country self_employed treatment tech_company\n",
            "0   37      F   united states            No       Yes          Yes\n",
            "1   44      M   united states            No        No           No\n",
            "2   32      M          canada            No        No          Yes\n",
            "3   31      M  united kingdom            No       Yes          Yes\n",
            "4   31      M   united states            No        No          Yes\n"
          ]
        }
      ]
    },
    {
      "cell_type": "code",
      "source": [
        "df1 = df.copy()"
      ],
      "metadata": {
        "id": "eZo7KL3gcwou"
      },
      "execution_count": 61,
      "outputs": []
    },
    {
      "cell_type": "code",
      "source": [
        "age_bins = [18, 25, 35, 45, 55, 65]"
      ],
      "metadata": {
        "id": "PR7hIE2PJ6sq"
      },
      "execution_count": 62,
      "outputs": []
    },
    {
      "cell_type": "code",
      "source": [
        "age_labels = ['18-24', '25-34', '35-44', '45-54', '55-65']"
      ],
      "metadata": {
        "id": "Iifalb9dKAjp"
      },
      "execution_count": 63,
      "outputs": []
    },
    {
      "cell_type": "code",
      "source": [
        "df1['age_group'] = pd.cut(df1['Age'], bins=age_bins, labels=age_labels, right=False)\n"
      ],
      "metadata": {
        "id": "0mzjQyo_KDnN"
      },
      "execution_count": 64,
      "outputs": []
    },
    {
      "cell_type": "code",
      "source": [
        "age_group_dist = df1.groupby('age_group')['treatment'].value_counts(normalize=True).unstack().fillna(0)\n",
        "age_group_dist.plot(kind='bar', stacked=True)\n",
        "plt.title('Distribution of Mental Health Conditions Among Different Age Groups')\n",
        "plt.xlabel('Age Group')\n",
        "plt.ylabel('Proportion')\n",
        "plt.xticks(rotation=45)\n",
        "plt.show()"
      ],
      "metadata": {
        "colab": {
          "base_uri": "https://localhost:8080/",
          "height": 496
        },
        "id": "UqnwOkezdJmq",
        "outputId": "37cfc000-e147-47f9-dff3-feaff48b0de0"
      },
      "execution_count": 54,
      "outputs": [
        {
          "output_type": "display_data",
          "data": {
            "text/plain": [
              "<Figure size 640x480 with 1 Axes>"
            ],
            "image/png": "[encoded data removed]"
          },
          "metadata": {}
        }
      ]
    },
    {
      "cell_type": "markdown",
      "source": [
        "We can see the positive corelation bitween the age group and distribution of meantal health conditions. We can see quite significant step for the oldest analysed group. It could be useful to lounch some internal communications or activities to help them."
      ],
      "metadata": {
        "id": "VBb99iVMeIgK"
      }
    },
    {
      "cell_type": "code",
      "source": [
        "plt.figure(figsize=(8, 6))\n",
        "gender_plot = sns.countplot(data=df1, y='Gender', hue='treatment', palette='coolwarm')\n",
        "gender_plot.set_title('Frequency of Mental Health Issues by Gender')\n",
        "gender_plot.set_xlabel('Count')\n",
        "gender_plot.set_ylabel('Gender')\n",
        "plt.show()"
      ],
      "metadata": {
        "colab": {
          "base_uri": "https://localhost:8080/",
          "height": 584
        },
        "id": "je0suvfse2yA",
        "outputId": "3bda0542-f6a3-44a3-b29d-c0815b4f2e46"
      },
      "execution_count": 65,
      "outputs": [
        {
          "output_type": "display_data",
          "data": {
            "text/plain": [
              "<Figure size 800x600 with 1 Axes>"
            ],
            "image/png": "[encoded data removed]"
          },
          "metadata": {}
        }
      ]
    },
    {
      "cell_type": "markdown",
      "source": [
        "We can notice, that women complain on mental issues more often, but there is significant gender disbalance inside the industry, as we can also notice on that plot. It could be helpful to dive in-depth on is there a correlation or not. Cause women tipycally pay more attention to their emotions and inner voice."
      ],
      "metadata": {
        "id": "dmSME2uhhGmg"
      }
    },
    {
      "cell_type": "code",
      "source": [
        "country_treatment = df1.groupby('Country')['treatment'].value_counts(normalize=True).unstack().fillna(0)\n",
        "top_countries = country_treatment['Yes'].sort_values(ascending=False).head(10)\n",
        "bottom_countries = country_treatment['Yes'].sort_values(ascending=True).head(10)"
      ],
      "metadata": {
        "id": "e7c5zYgsfkh6"
      },
      "execution_count": 66,
      "outputs": []
    },
    {
      "cell_type": "code",
      "source": [
        "print(top_countries)"
      ],
      "metadata": {
        "colab": {
          "base_uri": "https://localhost:8080/"
        },
        "id": "kDafqHzGiJ3f",
        "outputId": "28f09c6a-5016-44f8-adea-6b228b9af23c"
      },
      "execution_count": 67,
      "outputs": [
        {
          "output_type": "stream",
          "name": "stdout",
          "text": [
            "Country\n",
            "japan            1.000000\n",
            "croatia          1.000000\n",
            "slovenia         1.000000\n",
            "moldova          1.000000\n",
            "denmark          1.000000\n",
            "south africa     0.666667\n",
            "new zealand      0.625000\n",
            "australia        0.619048\n",
            "poland           0.571429\n",
            "united states    0.546335\n",
            "Name: Yes, dtype: float64\n"
          ]
        }
      ]
    },
    {
      "cell_type": "markdown",
      "source": [
        "Top 10 Countries with Highest Reported Rates of Mental Health Issues"
      ],
      "metadata": {
        "id": "l3uo8vUwiZF6"
      }
    },
    {
      "cell_type": "code",
      "source": [
        "print(bottom_countries)"
      ],
      "metadata": {
        "colab": {
          "base_uri": "https://localhost:8080/"
        },
        "id": "8L7TiudOikyg",
        "outputId": "ce31c235-d345-498d-8977-bac83f50a8ec"
      },
      "execution_count": 68,
      "outputs": [
        {
          "output_type": "stream",
          "name": "stdout",
          "text": [
            "Country\n",
            "italy          0.0\n",
            "thailand       0.0\n",
            "spain          0.0\n",
            "russia         0.0\n",
            "romania        0.0\n",
            "portugal       0.0\n",
            "philippines    0.0\n",
            "norway         0.0\n",
            "nigeria        0.0\n",
            "latvia         0.0\n",
            "Name: Yes, dtype: float64\n"
          ]
        }
      ]
    },
    {
      "cell_type": "markdown",
      "source": [
        "Top 10 Countries with Lowest Reported Rates of Mental Health Issues"
      ],
      "metadata": {
        "id": "B5njM34aiyEW"
      }
    }
  ]
}